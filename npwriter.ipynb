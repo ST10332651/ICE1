{
 "cells": [
  {
   "cell_type": "markdown",
   "metadata": {},
   "source": [
    "Code informed by Penumudy, 2021 : https://advtechonline.sharepoint.com/sites/VCNMB_BCAD2_G1_2023870/Shared%20Documents/Forms/AllItems.aspx?id=%2Fsites%2FVCNMB%5FBCAD2%5FG1%5F2023870%2FShared%20Documents%2FICE%2FFace%20Detection%20and%20Recognition%20using%20OpOpenCV%20and%20KNN%20from%20Scratch%20%5F%20by%20Tanvi%20Penumudy%20%5F%20Analytics%20Vidhya%20%5F%20Medium%2Epdf&viewid=646cd7fd%2Db59e%2D4eae%2D935c%2D0dfd65250404&parent=%2Fsites%2FVCNMB%5FBCAD2%5FG1%5F2023870%2FShared%20Documents%2FICE"
   ]
  },
  {
   "cell_type": "code",
   "execution_count": 1,
   "metadata": {},
   "outputs": [],
   "source": [
    "import pandas as pd \n",
    "import numpy as np \n",
    "import os.path \n"
   ]
  },
  {
   "cell_type": "code",
   "execution_count": 3,
   "metadata": {},
   "outputs": [
    {
     "ename": "NameError",
     "evalue": "name 'df' is not defined",
     "output_type": "error",
     "traceback": [
      "\u001b[1;31m---------------------------------------------------------------------------\u001b[0m",
      "\u001b[1;31mNameError\u001b[0m                                 Traceback (most recent call last)",
      "Cell \u001b[1;32mIn[3], line 12\u001b[0m\n\u001b[0;32m      9\u001b[0m         df         \u001b[38;5;241m=\u001b[39m pd\u001b[38;5;241m.\u001b[39mDataFrame(data,columns \u001b[38;5;241m=\u001b[39m \u001b[38;5;28mmap\u001b[39m(\u001b[38;5;28mstr\u001b[39m, \u001b[38;5;28mrange\u001b[39m(\u001b[38;5;241m10000\u001b[39m)))\n\u001b[0;32m     10\u001b[0m         df[\u001b[38;5;124m\"\u001b[39m\u001b[38;5;124mname\u001b[39m\u001b[38;5;124m\"\u001b[39m] \u001b[38;5;241m=\u001b[39m name\n\u001b[1;32m---> 12\u001b[0m df\u001b[38;5;241m.\u001b[39mto_csv(nic_data)\n",
      "\u001b[1;31mNameError\u001b[0m: name 'df' is not defined"
     ]
    }
   ],
   "source": [
    "nic_data = \"nic_data.csv\"\n",
    "def write(name, data) :\n",
    "    if os.path.isfile(nic_data) :\n",
    "        df     = pd.read_csv(nic_data, index_col = 0)\n",
    "        latest = pd.DataFrame(data, columns = map(str, range(10000)))\n",
    "        latest[\"name\"] = name\n",
    "        df = pd.concat((df, latest),ignore_index = True, sort = False)\n",
    "    else :\n",
    "        df         = pd.DataFrame(data,columns = map(str, range(10000)))\n",
    "        df[\"name\"] = name\n",
    "        \n",
    "df.to_csv(nic_data)\n"
   ]
  }
 ],
 "metadata": {
  "kernelspec": {
   "display_name": "base",
   "language": "python",
   "name": "python3"
  },
  "language_info": {
   "codemirror_mode": {
    "name": "ipython",
    "version": 3
   },
   "file_extension": ".py",
   "mimetype": "text/x-python",
   "name": "python",
   "nbconvert_exporter": "python",
   "pygments_lexer": "ipython3",
   "version": "3.11.5"
  }
 },
 "nbformat": 4,
 "nbformat_minor": 2
}
